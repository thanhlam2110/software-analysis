{
 "cells": [
  {
   "cell_type": "code",
   "execution_count": null,
   "id": "57b527da",
   "metadata": {},
   "outputs": [],
   "source": [
    "import pandas as pd\n",
    "\n",
    "# Specify the path to your JSON file\n",
    "json_file_path = 'C:\\\\Users\\\\ASUS\\\\anaconda3\\\\software-analysis\\\\github_issues_new.json'\n",
    "\n",
    "# Read the JSON file into a pandas DataFrame\n",
    "df = pd.read_json(json_file_path)\n",
    "\n",
    "# Specify the path for the CSV file where you want to save the data\n",
    "csv_file_path = 'C:\\\\Users\\\\ASUS\\\\anaconda3\\\\software-analysis\\\\github_issues_full.csv'\n",
    "\n",
    "# Convert the DataFrame to CSV\n",
    "df.to_csv(csv_file_path, index=False)\n",
    "\n",
    "# Print a confirmation message\n",
    "print(f'Data from JSON file saved to {csv_file_path} as a CSV file.')"
   ]
  }
 ],
 "metadata": {
  "kernelspec": {
   "display_name": "Python 3 (ipykernel)",
   "language": "python",
   "name": "python3"
  },
  "language_info": {
   "codemirror_mode": {
    "name": "ipython",
    "version": 3
   },
   "file_extension": ".py",
   "mimetype": "text/x-python",
   "name": "python",
   "nbconvert_exporter": "python",
   "pygments_lexer": "ipython3",
   "version": "3.9.13"
  }
 },
 "nbformat": 4,
 "nbformat_minor": 5
}

{
 "cells": [
  {
   "cell_type": "markdown",
   "id": "26426daf",
   "metadata": {},
   "source": [
    "# This code using craw data from git."
   ]
  },
  {
   "cell_type": "code",
   "execution_count": 5,
   "id": "831cc117",
   "metadata": {},
   "outputs": [
    {
     "name": "stdout",
     "output_type": "stream",
     "text": [
      "Git log saved to C:\\Users\\ASUS\\anaconda3\\software-analysis\\git_log.csv\n"
     ]
    }
   ],
   "source": [
    "import git\n",
    "import pandas as pd\n",
    "\n",
    "# URL of the remote Git repository\n",
    "repo_url = 'https://github.com/scikit-learn/scikit-learn.git'\n",
    "\n",
    "# Clone the remote repository to a local directory\n",
    "local_repo_path = 'C:\\\\Users\\\\ASUS\\\\anaconda3\\\\software-analysis\\\\scikit-learn\\\\'  \n",
    "\n",
    "# Clone the repository\n",
    "repo = git.Repo.clone_from(repo_url, local_repo_path)\n",
    "\n",
    "# Open the cloned repository\n",
    "repo = git.Repo(local_repo_path)\n",
    "\n",
    "# Access the Git log\n",
    "commits = list(repo.iter_commits())\n",
    "\n",
    "# Create a list to store commit information\n",
    "commit_data = []\n",
    "\n",
    "# Extract commit information\n",
    "for commit in commits:\n",
    "    commit_info = {\n",
    "        'Commit SHA': commit.hexsha,\n",
    "        'Author': commit.author.name,\n",
    "        'Author Email': commit.author.email,\n",
    "        'Date': commit.authored_datetime,\n",
    "        'Message': commit.message\n",
    "    }\n",
    "    commit_data.append(commit_info)\n",
    "\n",
    "# Create a DataFrame from the commit data\n",
    "df = pd.DataFrame(commit_data)\n",
    "\n",
    "# Save the DataFrame to a CSV file\n",
    "csv_file_path = 'C:\\\\Users\\\\ASUS\\\\anaconda3\\\\software-analysis\\\\git_log.csv'  # Replace with your desired CSV file path\n",
    "df.to_csv(csv_file_path, index=False)\n",
    "\n",
    "print(f'Git log saved to {csv_file_path}')"
   ]
  }
 ],
 "metadata": {
  "kernelspec": {
   "display_name": "Python 3 (ipykernel)",
   "language": "python",
   "name": "python3"
  },
  "language_info": {
   "codemirror_mode": {
    "name": "ipython",
    "version": 3
   },
   "file_extension": ".py",
   "mimetype": "text/x-python",
   "name": "python",
   "nbconvert_exporter": "python",
   "pygments_lexer": "ipython3",
   "version": "3.9.13"
  }
 },
 "nbformat": 4,
 "nbformat_minor": 5
}

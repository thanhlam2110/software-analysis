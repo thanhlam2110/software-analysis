{
 "cells": [
  {
   "cell_type": "code",
   "execution_count": 10,
   "id": "6e1207d0",
   "metadata": {},
   "outputs": [],
   "source": [
    "import pandas as pd\n",
    "import networkx as nx\n",
    "import matplotlib.pyplot as plt\n",
    "import warnings\n",
    "warnings.simplefilter(action='ignore', category=FutureWarning)\n",
    "warnings.filterwarnings(\"ignore\")"
   ]
  },
  {
   "cell_type": "markdown",
   "id": "9497fb98",
   "metadata": {},
   "source": [
    "# Collaboration graph"
   ]
  },
  {
   "cell_type": "code",
   "execution_count": null,
   "id": "d3e3036a",
   "metadata": {},
   "outputs": [],
   "source": [
    "# Read data from the CSV file into a DataFrame\n",
    "csv_file = 'C:\\\\Users\\\\ASUS\\\\anaconda3\\\\software-analysis\\\\git_log.csv'\n",
    "df = pd.read_csv(csv_file, delimiter=',')\n",
    "\n",
    "# Filter rows where the \"Committer\" column is not equal to \"GitHub\"\n",
    "df_filtered = df[df['Committer'] != 'GitHub']\n",
    "\n",
    "# Optionally, you can reset the index of the filtered DataFrame\n",
    "df_filtered.reset_index(drop=True, inplace=True)\n",
    "\n",
    "# Create a directed graph using networkx\n",
    "G = nx.DiGraph()\n",
    "\n",
    "# Iterate through each row in the DataFrame\n",
    "#for _, row in df.iterrows():\n",
    "for _, row in df_filtered.iterrows():\n",
    "    author = row['Author']\n",
    "    committer = row['Committer']\n",
    "\n",
    "    # Add edges to the graph to represent collaboration\n",
    "    G.add_edge(author, committer)\n",
    "\n",
    "# Draw the collaboration graph\n",
    "plt.figure(figsize=(22, 22))\n",
    "pos = nx.spring_layout(G, seed=42)  # Layout for better visualization\n",
    "nx.draw_networkx(G, pos, with_labels=True, node_size=3000, node_color='lightblue', font_size=10, font_color='black')\n",
    "plt.title('Collaboration Graph')\n",
    "plt.show()\n",
    "# Hide warning\n",
    "warnings.filterwarnings(\"default\")"
   ]
  }
 ],
 "metadata": {
  "kernelspec": {
   "display_name": "Python 3 (ipykernel)",
   "language": "python",
   "name": "python3"
  },
  "language_info": {
   "codemirror_mode": {
    "name": "ipython",
    "version": 3
   },
   "file_extension": ".py",
   "mimetype": "text/x-python",
   "name": "python",
   "nbconvert_exporter": "python",
   "pygments_lexer": "ipython3",
   "version": "3.9.13"
  }
 },
 "nbformat": 4,
 "nbformat_minor": 5
}

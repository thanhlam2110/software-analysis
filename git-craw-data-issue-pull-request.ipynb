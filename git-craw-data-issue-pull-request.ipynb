{
 "cells": [
  {
   "cell_type": "markdown",
   "id": "ade4f261",
   "metadata": {},
   "source": [
    "# This code using craw issue from git."
   ]
  },
  {
   "cell_type": "code",
   "execution_count": 4,
   "id": "1cf3a40e",
   "metadata": {},
   "outputs": [
    {
     "name": "stdout",
     "output_type": "stream",
     "text": [
      "GitHub issues saved to C:\\Users\\ASUS\\anaconda3\\software-analysis\\github_issues.json\n",
      "GitHub issues saved to C:\\Users\\ASUS\\anaconda3\\software-analysis\\github_issues.csv\n"
     ]
    }
   ],
   "source": [
    "import requests\n",
    "import pandas as pd\n",
    "import json\n",
    "\n",
    "\n",
    "# GitHub repository information\n",
    "repo_owner = \"scikit-learn\"\n",
    "repo_name = \"scikit-learn\"\n",
    "\n",
    "# GitHub API endpoint for issues\n",
    "api_url = f\"https://api.github.com/repos/{repo_owner}/{repo_name}/issues\"\n",
    "\n",
    "# Parameters for the GitHub API request\n",
    "params = {\n",
    "    \"state\": \"all\",  # state including \"open\", \"closed\", or \"all\" \n",
    "    \"per_page\": 100,  # Number of issues per page\n",
    "}\n",
    "\n",
    "# List to store issue data\n",
    "issue_data = []\n",
    "\n",
    "# Function to fetch issues from the GitHub API\n",
    "def fetch_issues(url, params):\n",
    "    response = requests.get(url, params=params)\n",
    "    return response.json()\n",
    "\n",
    "# Function to store issues in JSON format\n",
    "def store_issues_to_json(issues, json_file_path):\n",
    "    with open(json_file_path, \"w\") as json_file:\n",
    "        json.dump(issues, json_file, indent=4)\n",
    "\n",
    "# Function to store issues in CSV format\n",
    "def store_issues_to_csv(issues, csv_file_path):\n",
    "    df = pd.DataFrame(issues)\n",
    "    df.to_csv(csv_file_path, index=False)\n",
    "\n",
    "# Fetch and paginate through all the issues\n",
    "page = 1\n",
    "while True:\n",
    "    params[\"page\"] = page\n",
    "    issues = fetch_issues(api_url, params)\n",
    "    if not issues:\n",
    "        break\n",
    "    issue_data.extend(issues)\n",
    "    page += 1\n",
    "\n",
    "# Store issues in JSON format\n",
    "json_file_path = 'C:\\\\Users\\\\ASUS\\\\anaconda3\\\\software-analysis\\\\github_issues.json'  \n",
    "store_issues_to_json(issue_data, json_file_path)\n",
    "print(f'GitHub issues saved to {json_file_path}')\n",
    "\n",
    "# Store issues in CSV format\n",
    "csv_file_path = 'C:\\\\Users\\\\ASUS\\\\anaconda3\\\\software-analysis\\\\github_issues.csv'  \n",
    "store_issues_to_csv(issue_data, csv_file_path)\n",
    "print(f'GitHub issues saved to {csv_file_path}')"
   ]
  }
 ],
 "metadata": {
  "kernelspec": {
   "display_name": "Python 3 (ipykernel)",
   "language": "python",
   "name": "python3"
  },
  "language_info": {
   "codemirror_mode": {
    "name": "ipython",
    "version": 3
   },
   "file_extension": ".py",
   "mimetype": "text/x-python",
   "name": "python",
   "nbconvert_exporter": "python",
   "pygments_lexer": "ipython3",
   "version": "3.9.13"
  }
 },
 "nbformat": 4,
 "nbformat_minor": 5
}
